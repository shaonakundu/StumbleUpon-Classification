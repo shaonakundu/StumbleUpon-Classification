{
  "nbformat": 4,
  "nbformat_minor": 0,
  "metadata": {
    "colab": {
      "name": "StumbleUpon Classification.ipynb",
      "provenance": []
    },
    "kernelspec": {
      "name": "python3",
      "display_name": "Python 3"
    }
  },
  "cells": [
    {
      "cell_type": "code",
      "metadata": {
        "colab": {
          "base_uri": "https://localhost:8080/"
        },
        "id": "XcGGSx04tFZz",
        "outputId": "89365e6c-b678-40d0-b8cf-c9082aba3609"
      },
      "source": [
        "import nltk\n",
        "import numpy as np\n",
        "import pandas as pd\n",
        "\n",
        "from sklearn.feature_extraction.text import ENGLISH_STOP_WORDS,TfidfVectorizer\n",
        "from sklearn.model_selection import cross_val_score\n",
        "from sklearn.metrics import classification_report\n",
        "from sklearn.linear_model import LogisticRegression\n",
        "def stumbleUpon():\n",
        "    \n",
        "    df_train=pd.read_csv('/content/train.tsv',delimiter='\\t')\n",
        "\n",
        "    df_test=pd.read_csv('/content/test.tsv',delimiter='\\t')\n",
        "    \n",
        "\n",
        "    y_train = df_train.label.values\n",
        "    \n",
        "    urlid_test = df_test.urlid\n",
        "\n",
        "    len_train = df_train.shape[0]\n",
        "\n",
        "    train = df_train.boilerplate \n",
        "    test = df_test.boilerplate\n",
        "\n",
        "    train = [i[9:-2] for i in train]\n",
        "    test = [i[9:-2] for i in test]\n",
        "\n",
        "    text = train + test\n",
        "\n",
        "    tfidf_v = TfidfVectorizer(stop_words='english',min_df=3,strip_accents='unicode',token_pattern=r'\\w{1,}',ngram_range=(1,2),use_idf=True, smooth_idf=True, sublinear_tf=True)\n",
        "    tfidf_v.fit(text)\n",
        "    X= tfidf_v.transform(text)\n",
        "\n",
        "    # Seperating test and train file\n",
        "    X_train= X[:len_train]\n",
        "    X_test = X[len_train:]\n",
        "    \n",
        "    lr = LogisticRegression(class_weight = 'balanced')\n",
        "    print('Cross Val Score: {:.2f}'.format(np.mean(cross_val_score(lr,X_train,y_train,cv=3,scoring='roc_auc'))))\n",
        "    \n",
        "    lr.fit(X_train,y_train)\n",
        "    y_pred = lr.predict(X_test)\n",
        "    pred = lr.predict(X_train)\n",
        "    \n",
        "    print(classification_report(y_train,pred))\n",
        "    data = {'urlid':urlid_test,'label':y_pred}\n",
        "    \n",
        "    submit =pd.DataFrame(data)\n",
        "    submit.to_csv('Submit.csv',index=False)\n",
        "    \n",
        "    \n",
        "    \n",
        "if __name__==\"__main__\":\n",
        "    stumbleUpon()\n",
        "    "
      ],
      "execution_count": 33,
      "outputs": [
        {
          "output_type": "stream",
          "text": [
            "Cross Val Score: 0.87\n",
            "              precision    recall  f1-score   support\n",
            "\n",
            "           0       0.83      0.93      0.88      3599\n",
            "           1       0.92      0.82      0.87      3796\n",
            "\n",
            "    accuracy                           0.87      7395\n",
            "   macro avg       0.88      0.88      0.87      7395\n",
            "weighted avg       0.88      0.87      0.87      7395\n",
            "\n"
          ],
          "name": "stdout"
        }
      ]
    },
    {
      "cell_type": "code",
      "metadata": {
        "id": "58BTrsbg1Dt1"
      },
      "source": [
        ""
      ],
      "execution_count": null,
      "outputs": []
    }
  ]
}
